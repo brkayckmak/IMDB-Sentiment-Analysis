{
 "cells": [
  {
   "cell_type": "markdown",
   "metadata": {},
   "source": [
    "# IMBD Sentiment Analysis"
   ]
  },
  {
   "cell_type": "markdown",
   "metadata": {},
   "source": [
    "## Import libraries"
   ]
  },
  {
   "cell_type": "code",
   "execution_count": 174,
   "metadata": {},
   "outputs": [],
   "source": [
    "import numpy as np\n",
    "import matplotlib.pyplot as plt\n",
    "import seaborn as sns\n",
    "from scipy import stats\n",
    "from keras.datasets import imdb\n",
    "from keras.preprocessing.sequence import pad_sequences\n",
    "from keras.models import Sequential\n",
    "from keras.layers.embeddings import Embedding\n",
    "from keras.layers import SimpleRNN, Dense, Activation\n",
    "import warnings\n",
    "\n",
    "warnings.filterwarnings(\"ignore\")"
   ]
  },
  {
   "cell_type": "markdown",
   "metadata": {},
   "source": [
    "## Import and split dataset"
   ]
  },
  {
   "cell_type": "code",
   "execution_count": 175,
   "metadata": {},
   "outputs": [],
   "source": [
    "(X_train, Y_train), (X_test, Y_test) = imdb.load_data(path = \"imdb.npz\", seed = 58)"
   ]
  },
  {
   "cell_type": "markdown",
   "metadata": {},
   "source": [
    "## Exploratory data analysis"
   ]
  },
  {
   "cell_type": "code",
   "execution_count": 176,
   "metadata": {},
   "outputs": [
    {
     "name": "stdout",
     "output_type": "stream",
     "text": [
      "Y train values [0 1]\n",
      "Y test values [0 1]\n"
     ]
    }
   ],
   "source": [
    "print(\"Y train values\", np.unique(Y_train))\n",
    "print(\"Y test values\", np.unique(Y_test))"
   ]
  },
  {
   "cell_type": "code",
   "execution_count": 177,
   "metadata": {},
   "outputs": [
    {
     "name": "stdout",
     "output_type": "stream",
     "text": [
      "Y_train distribution {0: 12500, 1: 12500}\n",
      "Y_test distribution {0: 12500, 1: 12500}\n"
     ]
    }
   ],
   "source": [
    "unique, counts = np.unique(Y_train, return_counts = True)\n",
    "print(\"Y_train distribution\", dict(zip(unique, counts)))\n",
    "unique, counts = np.unique(Y_test, return_counts = True)\n",
    "print(\"Y_test distribution\", dict(zip(unique, counts)))"
   ]
  },
  {
   "cell_type": "code",
   "execution_count": 178,
   "metadata": {},
   "outputs": [
    {
     "data": {
      "image/png": "[encoded data removed]",
      "text/plain": [
       "<Figure size 432x288 with 1 Axes>"
      ]
     },
     "metadata": {
      "needs_background": "light"
     },
     "output_type": "display_data"
    },
    {
     "data": {
      "image/png": "[encoded data removed]",
      "text/plain": [
       "<Figure size 432x288 with 1 Axes>"
      ]
     },
     "metadata": {
      "needs_background": "light"
     },
     "output_type": "display_data"
    }
   ],
   "source": [
    "plt.figure()\n",
    "sns.countplot(Y_train)\n",
    "plt.xlabel(\"Classes\")\n",
    "plt.ylabel(\"Freq\")\n",
    "plt.title(\"Y train\")\n",
    "plt.figure()\n",
    "sns.countplot(Y_test)\n",
    "plt.xlabel(\"Classes\")\n",
    "plt.ylabel(\"Freq\")\n",
    "plt.title(\"Y test\");"
   ]
  },
  {
   "cell_type": "code",
   "execution_count": 179,
   "metadata": {},
   "outputs": [
    {
     "name": "stdout",
     "output_type": "stream",
     "text": [
      "Type of data <class 'int'>\n"
     ]
    }
   ],
   "source": [
    "print(\"Type of data\", type(X_train[0][0]))"
   ]
  },
  {
   "cell_type": "code",
   "execution_count": 180,
   "metadata": {},
   "outputs": [
    {
     "name": "stdout",
     "output_type": "stream",
     "text": [
      "Word count of X train 25000\n",
      "Word count of X test 25000\n"
     ]
    }
   ],
   "source": [
    "review_len_train = []\n",
    "review_len_test = []\n",
    "for i, j in zip(X_train, X_test):\n",
    "    review_len_train.append(len(i))\n",
    "    review_len_test.append(len(j))\n",
    "print(\"Word count of X train\", len(review_len_train))\n",
    "print(\"Word count of X test\", len(review_len_test))"
   ]
  },
  {
   "cell_type": "code",
   "execution_count": 181,
   "metadata": {},
   "outputs": [
    {
     "data": {
      "image/png": "[encoded data removed]",
      "text/plain": [
       "<Figure size 432x288 with 1 Axes>"
      ]
     },
     "metadata": {
      "needs_background": "light"
     },
     "output_type": "display_data"
    }
   ],
   "source": [
    "sns.distplot(review_len_train, hist_kws = {\"alpha\" : 0.3})\n",
    "sns.distplot(review_len_test, hist_kws = {\"alpha\" : 0.3});"
   ]
  },
  {
   "cell_type": "code",
   "execution_count": 182,
   "metadata": {},
   "outputs": [
    {
     "name": "stdout",
     "output_type": "stream",
     "text": [
      "Train mean: 238.71364\n",
      "Train median: 178.0\n",
      "Train mode: ModeResult(mode=array([132]), count=array([196]))\n"
     ]
    }
   ],
   "source": [
    "print(\"Train mean:\", np.mean(review_len_train))\n",
    "print(\"Train median:\", np.median(review_len_train))\n",
    "print(\"Train mode:\", stats.mode(review_len_train))"
   ]
  },
  {
   "cell_type": "markdown",
   "metadata": {},
   "source": [
    "### Number of words"
   ]
  },
  {
   "cell_type": "code",
   "execution_count": 183,
   "metadata": {},
   "outputs": [
    {
     "data": {
      "text/plain": [
       "88584"
      ]
     },
     "execution_count": 183,
     "metadata": {},
     "output_type": "execute_result"
    }
   ],
   "source": [
    "word_index = imdb.get_word_index()\n",
    "len(word_index)"
   ]
  },
  {
   "cell_type": "code",
   "execution_count": 184,
   "metadata": {},
   "outputs": [
    {
     "name": "stdout",
     "output_type": "stream",
     "text": [
      "my\n"
     ]
    }
   ],
   "source": [
    "for keys, values in word_index.items():\n",
    "    if values == 58:\n",
    "        print(keys)"
   ]
  },
  {
   "cell_type": "code",
   "execution_count": 185,
   "metadata": {},
   "outputs": [],
   "source": [
    "def decoder(index = 24):\n",
    "    reverse_index = dict([(value, key)for (key, value) in word_index.items()])\n",
    "    decode_review = \" \".join([reverse_index.get(i - 3, \"!\") for i in X_train[index]])\n",
    "    print(decode_review)\n",
    "    print(Y_train[index])\n",
    "    return decode_review"
   ]
  },
  {
   "cell_type": "code",
   "execution_count": 186,
   "metadata": {},
   "outputs": [
    {
     "name": "stdout",
     "output_type": "stream",
     "text": [
      "! i thought it was one of the best sequels i have seen in a while sometimes i felt as though i would just want someone to die stanley's killing off of the annoying characters was brilliant it was such a well done movie that you were happy when so and so died my only problem was in some scenes it looked like someone with a home camera was filming it and it was weird judd nelson is cute at least in my opinion and he was excellent in the role as stanley caldwell brilliant movie\n",
      "1\n"
     ]
    }
   ],
   "source": [
    "# Printing comment by index\n",
    "decoded_review = decoder(0)"
   ]
  },
  {
   "cell_type": "markdown",
   "metadata": {},
   "source": [
    "## Preprocess"
   ]
  },
  {
   "cell_type": "code",
   "execution_count": 187,
   "metadata": {},
   "outputs": [],
   "source": [
    "num_words = 15000"
   ]
  },
  {
   "cell_type": "code",
   "execution_count": 188,
   "metadata": {},
   "outputs": [],
   "source": [
    "(X_train, Y_train), (X_test, Y_test) = imdb.load_data(num_words = num_words, seed = 58)"
   ]
  },
  {
   "cell_type": "code",
   "execution_count": 189,
   "metadata": {},
   "outputs": [],
   "source": [
    "# Fix the word count to 150\n",
    "maxlen = 150\n",
    "\n",
    "X_train = pad_sequences(X_train, maxlen = maxlen)\n",
    "X_test = pad_sequences(X_test, maxlen = maxlen)"
   ]
  },
  {
   "cell_type": "code",
   "execution_count": 190,
   "metadata": {},
   "outputs": [
    {
     "name": "stdout",
     "output_type": "stream",
     "text": [
      "[   0    0    0    0    0    0    0    0    0    0    0    0    0    0\n",
      "    0    0    0    0    0    0    0    0    0    0    0    0    0    0\n",
      "    0    0    0    0    0    0    0    0    0    0    0    0    0    0\n",
      "    0    0    0    0    0    0    0    0    0    0    0    0    1   13\n",
      "  197   12   16   31    7    4  118 2289   13   28  110   11    6  137\n",
      "  518   13  421   17  151   13   62   43  181  294    8  783    2  880\n",
      "  125    7    4  616  105   16  530   12   16  141    6   73  224   20\n",
      "   15   25   71  654   54   38    5   38 1131   61   64  439   16   11\n",
      "   49  139   12  610   40  294   19    6  344  370   16 1423   12    5\n",
      "   12   16  916 6297 3249    9 1036   33  222   11   61  652    5   29\n",
      "   16  321   11    4  217   17 3006    2  530   20]\n"
     ]
    }
   ],
   "source": [
    "print(X_train[0])"
   ]
  },
  {
   "cell_type": "code",
   "execution_count": 191,
   "metadata": {},
   "outputs": [
    {
     "name": "stdout",
     "output_type": "stream",
     "text": [
      "! ! ! ! ! ! ! ! ! ! ! ! ! ! ! ! ! ! ! ! ! ! ! ! ! ! ! ! ! ! ! ! ! ! ! ! ! ! ! ! ! ! ! ! ! ! ! ! ! ! ! ! ! ! ! i thought it was one of the best sequels i have seen in a while sometimes i felt as though i would just want someone to die ! killing off of the annoying characters was brilliant it was such a well done movie that you were happy when so and so died my only problem was in some scenes it looked like someone with a home camera was filming it and it was weird judd nelson is cute at least in my opinion and he was excellent in the role as stanley ! brilliant movie\n",
      "1\n"
     ]
    }
   ],
   "source": [
    "decoded_review = decoder(0)"
   ]
  },
  {
   "cell_type": "markdown",
   "metadata": {},
   "source": [
    "## RNN"
   ]
  },
  {
   "cell_type": "code",
   "execution_count": 192,
   "metadata": {},
   "outputs": [
    {
     "name": "stdout",
     "output_type": "stream",
     "text": [
      "Model: \"sequential_1\"\n",
      "_________________________________________________________________\n",
      "Layer (type)                 Output Shape              Param #   \n",
      "=================================================================\n",
      "embedding_1 (Embedding)      (None, 150, 32)           480000    \n",
      "_________________________________________________________________\n",
      "simple_rnn_1 (SimpleRNN)     (None, 16)                784       \n",
      "_________________________________________________________________\n",
      "dense_1 (Dense)              (None, 1)                 17        \n",
      "_________________________________________________________________\n",
      "activation_1 (Activation)    (None, 1)                 0         \n",
      "=================================================================\n",
      "Total params: 480,801\n",
      "Trainable params: 480,801\n",
      "Non-trainable params: 0\n",
      "_________________________________________________________________\n",
      "None\n"
     ]
    }
   ],
   "source": [
    "rnn = Sequential()\n",
    "\n",
    "rnn.add(Embedding(num_words, 32, input_length = len(X_train[0])))\n",
    "rnn.add(SimpleRNN(16, input_shape = (num_words, maxlen), return_sequences = False, activation = \"relu\"))\n",
    "rnn.add(Dense(1))\n",
    "rnn.add(Activation(\"sigmoid\"))\n",
    "\n",
    "print(rnn.summary())\n",
    "rnn.compile(loss = \"binary_crossentropy\", optimizer = \"rmsprop\", metrics = [\"accuracy\"])"
   ]
  },
  {
   "cell_type": "code",
   "execution_count": 193,
   "metadata": {},
   "outputs": [
    {
     "name": "stdout",
     "output_type": "stream",
     "text": [
      "Epoch 1/5\n",
      "196/196 [==============================] - 6s 26ms/step - loss: 0.6723 - accuracy: 0.5859 - val_loss: 0.4846 - val_accuracy: 0.7986\n",
      "Epoch 2/5\n",
      "196/196 [==============================] - 5s 24ms/step - loss: 0.4683 - accuracy: 0.8191 - val_loss: 0.4225 - val_accuracy: 0.8152\n",
      "Epoch 3/5\n",
      "196/196 [==============================] - 5s 23ms/step - loss: 0.3574 - accuracy: 0.8504 - val_loss: 0.3881 - val_accuracy: 0.8301\n",
      "Epoch 4/5\n",
      "196/196 [==============================] - 5s 23ms/step - loss: 0.2951 - accuracy: 0.8814 - val_loss: 0.3820 - val_accuracy: 0.8360\n",
      "Epoch 5/5\n",
      "196/196 [==============================] - 5s 24ms/step - loss: 0.2538 - accuracy: 0.8987 - val_loss: 0.3625 - val_accuracy: 0.8512\n"
     ]
    }
   ],
   "source": [
    "history = rnn.fit(X_train, Y_train, validation_data = (X_test, Y_test), epochs = 5, batch_size = 128, verbose = 1)"
   ]
  },
  {
   "cell_type": "code",
   "execution_count": 194,
   "metadata": {},
   "outputs": [
    {
     "name": "stdout",
     "output_type": "stream",
     "text": [
      "782/782 [==============================] - 3s 4ms/step - loss: 0.3625 - accuracy: 0.8512: 0s - loss: 0.3600 - accura - ETA: 0s - loss: 0.3606 - \n",
      "Accuracy: % 85.11599898338318\n"
     ]
    }
   ],
   "source": [
    "score = rnn.evaluate(X_test, Y_test)\n",
    "print(\"Accuracy: %\", score[1]*100)"
   ]
  },
  {
   "cell_type": "code",
   "execution_count": 195,
   "metadata": {},
   "outputs": [
    {
     "data": {
      "image/png": "[encoded data removed]",
      "text/plain": [
       "<Figure size 432x288 with 1 Axes>"
      ]
     },
     "metadata": {
      "needs_background": "light"
     },
     "output_type": "display_data"
    }
   ],
   "source": [
    "plt.figure()\n",
    "plt.plot(history.history[\"accuracy\"], label = \"Train\")\n",
    "plt.plot(history.history[\"val_accuracy\"], Label = \"Test\")\n",
    "plt.title(\"Accuracy\")\n",
    "plt.xlabel(\"Epochs\")\n",
    "plt.ylabel(\"Accuracy\")\n",
    "plt.legend()\n",
    "plt.show()"
   ]
  },
  {
   "cell_type": "code",
   "execution_count": 196,
   "metadata": {},
   "outputs": [
    {
     "data": {
      "image/png": "[encoded data removed]",
      "text/plain": [
       "<Figure size 432x288 with 1 Axes>"
      ]
     },
     "metadata": {
      "needs_background": "light"
     },
     "output_type": "display_data"
    }
   ],
   "source": [
    "plt.figure()\n",
    "plt.plot(history.history[\"loss\"], label = \"Train\")\n",
    "plt.plot(history.history[\"val_loss\"], Label = \"Test\")\n",
    "plt.title(\"Loss\")\n",
    "plt.xlabel(\"Epochs\")\n",
    "plt.ylabel(\"Loss\")\n",
    "plt.legend()\n",
    "plt.show()"
   ]
  }
 ],
 "metadata": {
  "kernelspec": {
   "display_name": "Python 3",
   "language": "python",
   "name": "python3"
  },
  "language_info": {
   "codemirror_mode": {
    "name": "ipython",
    "version": 3
   },
   "file_extension": ".py",
   "mimetype": "text/x-python",
   "name": "python",
   "nbconvert_exporter": "python",
   "pygments_lexer": "ipython3",
   "version": "3.8.5"
  }
 },
 "nbformat": 4,
 "nbformat_minor": 4
}
